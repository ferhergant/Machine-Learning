{
 "cells": [
  {
   "cell_type": "markdown",
   "metadata": {},
   "source": [
    "# Homework 7: Mixtures of Bernoulli distributions\n",
    "\n",
    "------------------------------------------------------\n",
    "*Machine Learning, Master in Big Data Analytics, 2017-2018*\n",
    "\n",
    "*Pablo M. Olmos olmos@tsc.uc3m.es*\n",
    "\n",
    "------------------------------------------------------\n",
    "\n",
    "In this homework you will implement the EM algorithm for mixtures of Bernoulli distributions. This model is also known as [*latent class analysis*](https://en.wikipedia.org/wiki/Latent_class_model). As well as being of practical importance on its own right, understading this model and its learning also lay the fundation for **hidden Markov models (HMMs)** over discrete variables. HMMs will be dicussed in future course sessions.\n",
    "\n",
    "\n",
    "\n",
    "### Mixtures of Bernoulli distributions\n",
    "\n",
    "Consider a set of i.i.d. $D$-dimensional binary (0-1) vectors. Examples of this kind of data are binary images, binary detection results, or genetic markers. Consider also a mixture of multinomials (or multivariate Bernoullis) model for each of the vectors, $\\mathbf{x}$,\n",
    "\n",
    "$$\\displaystyle p(\\mathbf{x} | \\boldsymbol{\\Theta},\\mathbf{\\pi} ) = \\sum_{k=1}^K \\pi_k p_k(\\mathbf{x}^{(i)}|\\boldsymbol{\\theta}_k) = \\sum_{k=1}^K \\pi_k \\prod_{j=1}^D \\theta_{jk}^{x_{j}} (1-\\theta_{jk})^{1-x_{j}},$$\n",
    "where $\\boldsymbol{\\Theta}=[\\boldsymbol{\\theta}_1,\\ldots,\\boldsymbol{\\theta}_K]$. If we are given a data set $\\mathbf{X}=\\{\\mathbf{x}^{(1)},\\ldots,\\mathbf{x}^{(N)}\\}$ then the log likelihood function for this model is given by\n",
    "\n",
    "\\begin{align}\n",
    "\\log p(\\mathbf{X}|\\boldsymbol{\\Theta},\\mathbf{\\pi}) = \\sum_{i=1}^N \\log\\left(\\sum_{k=1}^D \\pi_k p(\\mathbf{x}^{(i)}|\\boldsymbol{\\theta}_k)\\right)\n",
    "\\end{align}\n",
    "\n",
    "To prevent overfitting, we will also use a **prior distribution** for the model parameters. For $\\boldsymbol{\\Theta}$ we have\n",
    "\n",
    "\\begin{align}\n",
    "\\theta_{jk}&\\sim\\text{Beta}(\\alpha,\\beta)\\\\\n",
    "p(\\boldsymbol{\\Theta}) &= \\prod_{k=1}^{K} \\prod_{j=1}^D p(\\theta_{jk})\\\\\n",
    "p(\\theta_{jk}) &= \\frac{\\theta_{jk}^{\\alpha-1}(1-\\theta_{jk})^{\\beta-1}}{\\text{B}(\\alpha,\\beta)},\n",
    "\\end{align}\n",
    "where $\\text{B}(\\alpha,\\beta)$ is the [Beta function](https://en.wikipedia.org/wiki/Beta_function). Check [here](https://en.wikipedia.org/wiki/Beta_distribution) for more details about the Beta distribution.\n",
    "\n",
    "For $\\mathbf{\\pi}$ we use a uniform [Dirichlet distribution](https://en.wikipedia.org/wiki/Dirichlet_distribution):\n",
    "\\begin{align}\n",
    "\\mathbf{\\pi}&\\sim \\text{Dir}(\\frac{1}{K}, \\ldots, \\frac{1}{K}) \\Rightarrow p(\\mathbf{\\pi}) =\\frac{1}{\\text{B}(\\frac{1}{K}, \\ldots, \\frac{1}{K})}\\prod_{k=1}^{K}\\pi_k^{\\frac{1}{K}-1},\n",
    "\\end{align}\n",
    "where $\\text{B}(\\frac{1}{K}, \\ldots, \\frac{1}{K})$ is the multivariate Beta function.\n"
   ]
  },
  {
   "cell_type": "markdown",
   "metadata": {},
   "source": [
    "### EM learning\n",
    "\n",
    "We now derive the EM algorithm for maximizing the posterior distribution $p(\\mathbf{\\Theta},\\mathbf{\\pi}|\\mathbf{X})$. To do this, we introduce an explict discrete latent variable $z\\in\\{1,\\ldots,K\\}$ assoacted to each data point $\\mathbf{x}$:\n",
    "\\begin{align}\n",
    "p(\\mathbf{x},z) = \\prod_{k=1}^{K} \\left(\\pi_k ~p_{k}(\\mathbf{x})\\right)^{\\mathbb{1} [z==k]}, ~~ p(z)=\\prod_{k=1}^K \\pi_k^{\\mathbb{1} [z==k]}\n",
    "\\end{align}\n",
    "\n",
    "#### Complete log-likelihood\n",
    "\n",
    "We write the complete data log-likelihood as follows:\n",
    "\\begin{align}\n",
    "\\log p(\\mathbf{X},\\mathbf{z}|\\boldsymbol{\\Theta},\\mathbf{\\pi})=\\sum_{i=1}^{N}\\sum_{k=1}^{K}\\mathbb{1} [z^{(i)}==k]\\left(\\log \\pi_k + \\sum_{j=1}^D \\left[x_{j}^{(i)}\\log\\theta_k+(1-x_{j}^{(i)})\\log(1-\\theta_k)\\right]\\right)\n",
    "\\end{align}\n",
    "\n",
    "#### Posterior distribution of $\\mathbf{z}$ given $\\boldsymbol{\\Theta},\\mathbf{\\pi}$\n",
    "\n",
    "In the $E$, we compute the expected complete data log-likelihood w.r.t. posterior distribution of $\\mathbf{z}$ given the current values of $\\boldsymbol{\\Theta},\\mathbf{\\pi}$:\n",
    "\\begin{align}\n",
    "p(z^{(i)}=k|\\mathbf{x}^{(i)},\\boldsymbol{\\Theta}_{(t-1)},\\mathbf{\\pi}_{(t-1)}) \\triangleq r_{ik} = \\frac{\\pi_{(k,t-1)} p_k(\\mathbf{x}|\\boldsymbol{\\theta}_k) }{\\sum_{q=1}^K \\pi_{(q,t-1)} p_k(\\mathbf{x}^{(i)}|\\boldsymbol{\\theta}_q)}, ~~~ k=1,\\ldots, K\n",
    "\\end{align}\n",
    "\n",
    "#### E-step\n",
    "It is easy to show that\n",
    "\\begin{align}\n",
    "\\mathcal{Q}(\\boldsymbol{\\Theta},\\mathbf{\\pi},\\boldsymbol{\\Theta}_{(t-1)},\\mathbf{\\pi}_{(t-1)})&=\\mathbb{E}_{p(\\mathbf{z}|\\mathbf{X}^{(i)},\\boldsymbol{\\Theta}_{(t-1)},\\mathbf{\\pi}_{(t-1)})}[\\log p(\\mathbf{X},\\mathbf{z}|\\boldsymbol{\\Theta},\\mathbf{\\pi})]\\\\\n",
    "&=\\sum_{i=1}^{N}\\sum_{k=1}^K r_{ik} \\left(\\log \\pi_k + \\sum_{j=1}^D \\left[x_{j}^{(i)}\\log\\theta_k+(1-x_{j}^{(i)})\\log(1-\\theta_k)\\right]\\right)\n",
    "\\end{align}\n",
    "\n",
    "#### M-step\n",
    "\n",
    "We have to find\n",
    "\\begin{align}\n",
    "\\boldsymbol{\\Theta}_t,\\mathbf{\\pi}_t = \\arg \\max_{\\boldsymbol{\\Theta},\\mathbf{\\pi}} ~~\\mathcal{Q}(\\boldsymbol{\\Theta},\\mathbf{\\pi},\\boldsymbol{\\Theta}_{(t-1)},\\mathbf{\\pi}_{(t-1)})+ \\log p(\\boldsymbol{\\Theta})+\\log p(\\mathbf{\\pi})\n",
    "\\end{align}\n",
    "\n",
    "As a result, one can prove that the maximum is attained at\n",
    "\n",
    "\\begin{align}\n",
    "r_k &\\triangleq \\sum_{i=1}^N r_{ik} \\\\\\\\\n",
    "\\pi^t_k &= \\frac{r_k+\\frac{1}{K}-1}{N+1-K}\\\\\\\\\n",
    "\\boldsymbol{\\theta}_k &= \\frac{\\sum_{i=1}^N r_{ik}\\mathbf{x}^{(i)}+\\alpha-1}{r_k+\\alpha+\\beta-2} \n",
    "\\end{align}\n",
    "\n",
    "To see details about the derivation of this result, check out chapter 9 of Bishop's book. Also Chapter 11 of Murphy's book."
   ]
  },
  {
   "cell_type": "markdown",
   "metadata": {
    "collapsed": true
   },
   "source": [
    "## Implementation of the E-step\n",
    "\n",
    "Wryte a Python function that evaluates the responsibilities $r_{ik}$, $i=1,\\ldots,N$, $k=1,\\ldots,K$ for each data point. It should take as input the current values of $\\boldsymbol{\\pi}$, $\\boldsymbol{\\Theta}$, and the matrix $\\mathbf{X}$ of observations."
   ]
  },
  {
   "cell_type": "code",
   "execution_count": 1,
   "metadata": {},
   "outputs": [],
   "source": [
    "import matplotlib.pyplot as plt\n",
    "import numpy as np\n",
    "from IPython.display import Image\n",
    "import matplotlib.mlab as mlab\n",
    "from mpl_toolkits.mplot3d import Axes3D\n",
    "from scipy.stats import multivariate_normal as mvn\n",
    "\n",
    "%matplotlib inline"
   ]
  },
  {
   "cell_type": "code",
   "execution_count": 2,
   "metadata": {},
   "outputs": [],
   "source": [
    "\n",
    "# COMPLETE THE FOLLOWING FUNCTION, which takes the whole matrix of data points and the vector \n",
    "# of probabilites of a single cluster. The function must return the probability of each data \n",
    "# point given cluster parameters p(x|theta_k)\n",
    "\n",
    "def eval_bern_pdf(X,Thetak):\n",
    "    #Your code here. AVOID A FOR LOOP OVER THE DATA POINTS!\n",
    "    P = np.prod(np.multiply(np.power(Thetak,X),np.power(1-Thetak,1-X)), axis=1)\n",
    "    return P\n",
    "\n",
    "\n",
    "# COMPLETE THE FOLLOWING FUNCTION, which takes the whole matrix of data points, the vector \n",
    "# of probabilites of a single cluster and the cluster probabilites. The function must return \n",
    "# the matrix of responsibilites\n",
    "\n",
    "def responsibilities(X,P,Theta,K):\n",
    "    N,D = X.shape\n",
    "    R = np.zeros([N,K])\n",
    "    \n",
    "    for k in range(K):\n",
    "         R[:,k] = np.multiply(P[k],eval_bern_pdf(X,Theta[k]))\n",
    "\n",
    "    R = np.transpose(np.divide(np.transpose(R),np.sum(R,axis=1)))\n",
    "        \n",
    "    return R\n",
    "        "
   ]
  },
  {
   "cell_type": "code",
   "execution_count": 3,
   "metadata": {},
   "outputs": [
    {
     "name": "stdout",
     "output_type": "stream",
     "text": [
      "[[1 1 0 1 0]\n",
      " [1 1 0 1 1]]\n"
     ]
    }
   ],
   "source": [
    "#Test your code with the following example\n",
    "\n",
    "N = 2\n",
    "D = 5\n",
    "K = 3\n",
    "\n",
    "np.random.seed(10)\n",
    "\n",
    "X = np.random.randint(0,2,[N,D])\n",
    "\n",
    "# X should be equal to (we have fixed the seed) \n",
    "# [[1 1 0 1 0]\n",
    "#  [1 1 0 1 1]]\n",
    "\n",
    "print(X)\n",
    "Theta = np.random.rand(K,D)\n",
    "P = np.random.rand(K,1)\n",
    "P /= np.sum(P)\n",
    "\n",
    "R = responsibilities(X,P,Theta,K)\n",
    "\n",
    "# R should be a [N,K] matrix with the following values\n",
    "# [[  2.20811374e-02   2.19873976e-01   7.58044887e-01]\n",
    "#  [  7.49839314e-04   3.34167429e-01   6.65082732e-01]]\n"
   ]
  },
  {
   "cell_type": "code",
   "execution_count": 4,
   "metadata": {},
   "outputs": [
    {
     "data": {
      "text/plain": [
       "array([[2.20811374e-02, 2.19873976e-01, 7.58044887e-01],\n",
       "       [7.49839314e-04, 3.34167429e-01, 6.65082732e-01]])"
      ]
     },
     "execution_count": 4,
     "metadata": {},
     "output_type": "execute_result"
    }
   ],
   "source": [
    "R"
   ]
  },
  {
   "cell_type": "markdown",
   "metadata": {},
   "source": [
    "## Implementation of the M step"
   ]
  },
  {
   "cell_type": "code",
   "execution_count": 5,
   "metadata": {},
   "outputs": [],
   "source": [
    "# COMPLETE THE FOLLOWING FUNCTION, which computes the the soft number of points \n",
    "# associated to each cluster given the matrix R\n",
    "\n",
    "def points_cluster(R):\n",
    "    Rk = np.sum(R,axis=0)\n",
    "    return Rk\n",
    "\n",
    "# COMPLETE THE FOLLOWING FUNCTION, which updates the value of the cluster probabilites\n",
    "\n",
    "def new_P(R,N):\n",
    "    k=len(R[0,:])\n",
    "    P = np.divide(points_cluster(R)+1.0/k-1,N-1+k)\n",
    "    return P\n",
    "\n",
    "def new_Theta(R,X,K,alpha,beta):\n",
    "    \n",
    "    Theta = np.zeros([K,D])\n",
    "    Rk = points_cluster(R)\n",
    "    \n",
    "    for k in range(K):\n",
    "        #Your code here\n",
    "        Theta[k,:] = np.divide(np.sum(np.multiply(np.transpose(R[:,k]),np.transpose(X)),axis=1)+alpha-1\n",
    "                               ,points_cluster(R)[k]+alpha+beta-2)\n",
    "    \n",
    "    return Theta\n",
    "\n"
   ]
  },
  {
   "cell_type": "code",
   "execution_count": 116,
   "metadata": {},
   "outputs": [
    {
     "name": "stdout",
     "output_type": "stream",
     "text": [
      "[[0.50564332 0.50564332 0.49435668 0.50564332 0.49472737]\n",
      " [0.60846367 0.60846367 0.39153633 0.60846367 0.52237502]\n",
      " [0.70786949 0.70786949 0.29213051 0.70786949 0.48642146]]\n"
     ]
    }
   ],
   "source": [
    "alpha = 2.\n",
    "beta = 2.\n",
    "\n",
    "Theta = new_Theta(R,X,K,alpha,beta)\n",
    "\n",
    "print(Theta)\n",
    "\n",
    "# Theta should be a [K,D] matrix with the following values\n",
    "# [[ 0.50564332  0.50564332  0.49435668  0.50564332  0.49472737]\n",
    "# [ 0.60846367  0.60846367  0.39153633  0.60846367  0.52237502]\n",
    "#  [ 0.70786949  0.70786949  0.29213051  0.70786949  0.48642146]]\n",
    "\n"
   ]
  },
  {
   "cell_type": "markdown",
   "metadata": {},
   "source": [
    "## Computing the log-likelihood"
   ]
  },
  {
   "cell_type": "code",
   "execution_count": 128,
   "metadata": {},
   "outputs": [],
   "source": [
    "# COMPLETE THE FOLLOWING FUNCTION, which computes the model log-likelihood \n",
    "# given the model parameters\n",
    "\n",
    "def log_lik(X,P,Theta,K):\n",
    "    \n",
    "    LL = 0.\n",
    "    \n",
    "    for k in range(K):\n",
    "\n",
    "        LL += np.multiply(P[k],eval_bern_pdf(X,Theta[k]))\n",
    "        \n",
    "    return np.sum(np.log(LL)) #Your code here\n"
   ]
  },
  {
   "cell_type": "code",
   "execution_count": 129,
   "metadata": {},
   "outputs": [
    {
     "name": "stdout",
     "output_type": "stream",
     "text": [
      "-5.311110373732397\n"
     ]
    }
   ],
   "source": [
    "#For the toy example the LL should be -5.31111037373\n",
    "\n",
    "print(log_lik(X,P,Theta,K))"
   ]
  },
  {
   "cell_type": "markdown",
   "metadata": {},
   "source": [
    "## EM for a synthetic dataset\n",
    "\n",
    "Let's generate samples from a mixtures of Bernoulli distributions and run the EM algorithm to recover the true model parameters."
   ]
  },
  {
   "cell_type": "code",
   "execution_count": 145,
   "metadata": {},
   "outputs": [
    {
     "name": "stdout",
     "output_type": "stream",
     "text": [
      "(535, 100)\n",
      "(671, 100)\n",
      "(448, 100)\n",
      "(1758, 100)\n",
      "(1588, 100)\n"
     ]
    }
   ],
   "source": [
    "## True model parameters\n",
    "K = 5\n",
    "D = 100\n",
    "N = 5000\n",
    "X = []\n",
    "\n",
    "\n",
    "Theta_true = np.random.rand(K,D)\n",
    "P_true = np.random.rand(K,1)\n",
    "P_true /= np.sum(P_true)\n",
    "\n",
    "N_Z_true = np.random.multinomial(N,P_true.reshape([-1,]))\n",
    "\n",
    "for k in range(K):\n",
    "    X.append(np.random.rand(N_Z_true[k],D)<=Theta_true[k,:])\n",
    "    print(X[k].shape)\n",
    "\n",
    "X = np.concatenate(X)"
   ]
  },
  {
   "cell_type": "code",
   "execution_count": 143,
   "metadata": {},
   "outputs": [],
   "source": [
    "## EM initialization\n",
    "K = 5\n",
    "\n",
    "P = np.ones([K,1])*1.0/K\n",
    "P /= np.sum(P_true)\n",
    "\n",
    "# Uniform initializaiton for Theta in the range [0.2,0.8]\n",
    "Theta = np.random.uniform(low=0.2,high=0.8,size=[K,D])  \n",
    "\n",
    "Num_Iter = 100\n",
    "\n",
    "alpha = 0.2\n",
    "beta = 0.2\n",
    "\n",
    "LL = np.zeros([Num_Iter,1])\n",
    "\n",
    "for i in range(Num_Iter):\n",
    "    \n",
    "    R = responsibilities(X,P,Theta,K)\n",
    "    P = new_P(R,N)\n",
    "    Theta = new_Theta(R,X,K,alpha,beta)\n",
    "    LL[i,:] = log_lik(X,P,Theta,K)\n",
    "    "
   ]
  },
  {
   "cell_type": "code",
   "execution_count": 148,
   "metadata": {},
   "outputs": [
    {
     "data": {
      "text/plain": [
       "[<matplotlib.lines.Line2D at 0x200098cef98>]"
      ]
     },
     "execution_count": 148,
     "metadata": {},
     "output_type": "execute_result"
    },
    {
     "data": {
      "image/png": "[encoded data removed]",
      "text/plain": [
       "<matplotlib.figure.Figure at 0x20009575470>"
      ]
     },
     "metadata": {},
     "output_type": "display_data"
    }
   ],
   "source": [
    "# Plot the evolution of the negative LL. It should always decrease!\n",
    "\n",
    "plt.semilogy(-LL,'-*')  "
   ]
  },
  {
   "cell_type": "code",
   "execution_count": 146,
   "metadata": {},
   "outputs": [
    {
     "data": {
      "text/plain": [
       "Text(0.5,1,'Cluster Probabilites')"
      ]
     },
     "execution_count": 146,
     "metadata": {},
     "output_type": "execute_result"
    },
    {
     "data": {
      "image/png": "[encoded data removed]",
      "text/plain": [
       "<matplotlib.figure.Figure at 0x2000959e9e8>"
      ]
     },
     "metadata": {},
     "output_type": "display_data"
    }
   ],
   "source": [
    "plt.plot(P_true,label='true probs', color = [0, 0.5, 0])\n",
    "plt.plot(P,label='EM probs', color = [1, 0, 0])\n",
    "plt.legend()\n",
    "plt.title('Cluster Probabilites')"
   ]
  },
  {
   "cell_type": "markdown",
   "metadata": {},
   "source": [
    "## EM for a data set of handwritten digits\n",
    "\n",
    "Load and run the EM over the [sklearn dataset of digits](http://scikit-learn.org/stable/modules/generated/sklearn.datasets.load_digits.html#sklearn.datasets.load_digits). Each datapoint is a 8x8 image of a digit."
   ]
  },
  {
   "cell_type": "code",
   "execution_count": 147,
   "metadata": {},
   "outputs": [
    {
     "name": "stdout",
     "output_type": "stream",
     "text": [
      "(1797, 64)\n"
     ]
    },
    {
     "data": {
      "text/plain": [
       "<matplotlib.figure.Figure at 0x20009760da0>"
      ]
     },
     "metadata": {},
     "output_type": "display_data"
    },
    {
     "data": {
      "image/png": "[encoded data removed]",
      "text/plain": [
       "<matplotlib.figure.Figure at 0x20009845dd8>"
      ]
     },
     "metadata": {},
     "output_type": "display_data"
    },
    {
     "data": {
      "text/plain": [
       "<matplotlib.figure.Figure at 0x200098e9b38>"
      ]
     },
     "metadata": {},
     "output_type": "display_data"
    },
    {
     "data": {
      "image/png": "[encoded data removed]",
      "text/plain": [
       "<matplotlib.figure.Figure at 0x20009587fd0>"
      ]
     },
     "metadata": {},
     "output_type": "display_data"
    }
   ],
   "source": [
    "from sklearn.datasets import load_digits\n",
    "digits = load_digits()    #Gray scale, we have to binarize\n",
    "print(digits.data.shape)\n",
    "\n",
    "plt.gray() \n",
    "plt.matshow(digits.images[15]) \n",
    "plt.show()\n",
    "\n",
    "#Binarization\n",
    "\n",
    "Bin_Images = np.copy(digits.images)\n",
    "\n",
    "val_min=np.min(Bin_Images)\n",
    "val_max=np.max(Bin_Images)\n",
    "\n",
    "Bin_Images = (Bin_Images - val_min) / (val_max - val_min)\n",
    "\n",
    "Bin_Images = np.round(Bin_Images)\n",
    "\n",
    "plt.gray() \n",
    "plt.matshow(Bin_Images[15]) \n",
    "plt.show()\n"
   ]
  },
  {
   "cell_type": "code",
   "execution_count": 149,
   "metadata": {},
   "outputs": [
    {
     "data": {
      "text/plain": [
       "[<matplotlib.lines.Line2D at 0x200099b1f98>]"
      ]
     },
     "execution_count": 149,
     "metadata": {},
     "output_type": "execute_result"
    },
    {
     "data": {
      "image/png": "[encoded data removed]",
      "text/plain": [
       "<matplotlib.figure.Figure at 0x20009969dd8>"
      ]
     },
     "metadata": {},
     "output_type": "display_data"
    }
   ],
   "source": [
    "# EM \n",
    "\n",
    "K = 10\n",
    "D = 64\n",
    "X = Bin_Images.reshape([-1,D])\n",
    "\n",
    "P = np.ones([K,1])*1.0/K\n",
    "P /= np.sum(P_true)\n",
    "\n",
    "# Uniform initializaiton for Theta in the range [0.2,0.8]\n",
    "Theta = np.random.uniform(low=0.2,high=0.8,size=[K,D])  \n",
    "\n",
    "Num_Iter = 1000\n",
    "\n",
    "alpha = 2.\n",
    "beta = 2.\n",
    "\n",
    "LL = np.zeros([Num_Iter,1])\n",
    "\n",
    "for i in range(Num_Iter):\n",
    "    \n",
    "    R = responsibilities(X,P,Theta,K)\n",
    "    P = new_P(R,N)\n",
    "    Theta = new_Theta(R,X,K,alpha,beta)\n",
    "    LL[i,:] = log_lik(X,P,Theta,K)\n",
    "    \n",
    "\n",
    "# Plot the evolution of the negative LL. It should always decrease!\n",
    "plt.semilogy(-LL,'-*')  "
   ]
  },
  {
   "cell_type": "code",
   "execution_count": 150,
   "metadata": {
    "scrolled": false
   },
   "outputs": [
    {
     "data": {
      "text/plain": [
       "<matplotlib.figure.Figure at 0x200099196a0>"
      ]
     },
     "metadata": {},
     "output_type": "display_data"
    },
    {
     "data": {
      "image/png": "[encoded data removed]",
      "text/plain": [
       "<matplotlib.figure.Figure at 0x200098dec88>"
      ]
     },
     "metadata": {},
     "output_type": "display_data"
    },
    {
     "data": {
      "text/plain": [
       "<matplotlib.figure.Figure at 0x20009994f98>"
      ]
     },
     "metadata": {},
     "output_type": "display_data"
    },
    {
     "data": {
      "image/png": "[encoded data removed]",
      "text/plain": [
       "<matplotlib.figure.Figure at 0x200098eeda0>"
      ]
     },
     "metadata": {},
     "output_type": "display_data"
    },
    {
     "data": {
      "text/plain": [
       "<matplotlib.figure.Figure at 0x20009a65780>"
      ]
     },
     "metadata": {},
     "output_type": "display_data"
    },
    {
     "data": {
      "image/png": "[encoded data removed]",
      "text/plain": [
       "<matplotlib.figure.Figure at 0x20009a77860>"
      ]
     },
     "metadata": {},
     "output_type": "display_data"
    },
    {
     "data": {
      "text/plain": [
       "<matplotlib.figure.Figure at 0x20009ab1320>"
      ]
     },
     "metadata": {},
     "output_type": "display_data"
    },
    {
     "data": {
      "image/png": "[encoded data removed]",
      "text/plain": [
       "<matplotlib.figure.Figure at 0x200099de9b0>"
      ]
     },
     "metadata": {},
     "output_type": "display_data"
    },
    {
     "data": {
      "text/plain": [
       "<matplotlib.figure.Figure at 0x20009aa1be0>"
      ]
     },
     "metadata": {},
     "output_type": "display_data"
    },
    {
     "data": {
      "image/png": "[encoded data removed]",
      "text/plain": [
       "<matplotlib.figure.Figure at 0x20009ab1fd0>"
      ]
     },
     "metadata": {},
     "output_type": "display_data"
    },
    {
     "data": {
      "text/plain": [
       "<matplotlib.figure.Figure at 0x20009b93128>"
      ]
     },
     "metadata": {},
     "output_type": "display_data"
    },
    {
     "data": {
      "image/png": "[encoded data removed]",
      "text/plain": [
       "<matplotlib.figure.Figure at 0x20009bd5588>"
      ]
     },
     "metadata": {},
     "output_type": "display_data"
    },
    {
     "data": {
      "text/plain": [
       "<matplotlib.figure.Figure at 0x20009c74eb8>"
      ]
     },
     "metadata": {},
     "output_type": "display_data"
    },
    {
     "data": {
      "image/png": "[encoded data removed]",
      "text/plain": [
       "<matplotlib.figure.Figure at 0x20009b56630>"
      ]
     },
     "metadata": {},
     "output_type": "display_data"
    },
    {
     "data": {
      "text/plain": [
       "<matplotlib.figure.Figure at 0x20009ce7c88>"
      ]
     },
     "metadata": {},
     "output_type": "display_data"
    },
    {
     "data": {
      "image/png": "[encoded data removed]",
      "text/plain": [
       "<matplotlib.figure.Figure at 0x20009cc6940>"
      ]
     },
     "metadata": {},
     "output_type": "display_data"
    },
    {
     "data": {
      "text/plain": [
       "<matplotlib.figure.Figure at 0x20009d10668>"
      ]
     },
     "metadata": {},
     "output_type": "display_data"
    },
    {
     "data": {
      "image/png": "[encoded data removed]",
      "text/plain": [
       "<matplotlib.figure.Figure at 0x20009cbce80>"
      ]
     },
     "metadata": {},
     "output_type": "display_data"
    },
    {
     "data": {
      "text/plain": [
       "<matplotlib.figure.Figure at 0x20009d706d8>"
      ]
     },
     "metadata": {},
     "output_type": "display_data"
    },
    {
     "data": {
      "image/png": "[encoded data removed]",
      "text/plain": [
       "<matplotlib.figure.Figure at 0x20009d8ce80>"
      ]
     },
     "metadata": {},
     "output_type": "display_data"
    }
   ],
   "source": [
    "# Plot as a 8x8 gray-scale image each theta_k vector\n",
    "# (it represents the probability of each pixel to take value 1)\n",
    "\n",
    "\n",
    "for k in range(K):\n",
    "    plt.gray() \n",
    "    plt.matshow(Theta[k,:].reshape([8,8])) \n",
    "    plt.show()"
   ]
  },
  {
   "cell_type": "markdown",
   "metadata": {},
   "source": [
    "## EM for the MNIST Database (optional)\n",
    "\n",
    "Repeat the experiment for the MNIST Database. Take $10^4$ images **at random**, and binarize the database.\n"
   ]
  },
  {
   "cell_type": "code",
   "execution_count": 151,
   "metadata": {},
   "outputs": [],
   "source": [
    "from sklearn.datasets import fetch_mldata\n",
    "mnist = fetch_mldata('MNIST original')"
   ]
  },
  {
   "cell_type": "code",
   "execution_count": 152,
   "metadata": {},
   "outputs": [
    {
     "data": {
      "text/plain": [
       "<matplotlib.figure.Figure at 0x20009cd6710>"
      ]
     },
     "metadata": {},
     "output_type": "display_data"
    },
    {
     "data": {
      "image/png": "[encoded data removed]",
      "text/plain": [
       "<matplotlib.figure.Figure at 0x20009cd6e10>"
      ]
     },
     "metadata": {},
     "output_type": "display_data"
    },
    {
     "data": {
      "text/plain": [
       "<matplotlib.figure.Figure at 0x20009de2e48>"
      ]
     },
     "metadata": {},
     "output_type": "display_data"
    },
    {
     "data": {
      "image/png": "[encoded data removed]",
      "text/plain": [
       "<matplotlib.figure.Figure at 0x20009de2c18>"
      ]
     },
     "metadata": {},
     "output_type": "display_data"
    }
   ],
   "source": [
    "images = mnist.data  #70000 images\n",
    "\n",
    "\n",
    "plt.gray() \n",
    "plt.matshow(images[0,:].reshape([28,28])) \n",
    "plt.show()\n",
    "\n",
    "val_min=np.min(images)\n",
    "val_max=np.max(images)\n",
    "\n",
    "Bin_Images = (images - val_min) / (val_max - val_min)\n",
    "\n",
    "Bin_Images = np.round(Bin_Images)\n",
    "\n",
    "plt.gray() \n",
    "plt.matshow(Bin_Images[0,:].reshape([28,28])) \n",
    "plt.show()\n",
    "\n",
    "mask = np.random.permutation(Bin_Images.shape[0])\n",
    "\n",
    "Bin_Images = Bin_Images[mask,:]"
   ]
  },
  {
   "cell_type": "code",
   "execution_count": 154,
   "metadata": {},
   "outputs": [],
   "source": [
    "# EM \n",
    "\n",
    "random_sample = np.random.choice(70000, 10000)\n",
    "\n",
    "K = 10\n",
    "D = 784\n",
    "N = len(random_sample)\n",
    "\n",
    "X = Bin_Images[random_sample,:]\n",
    "\n",
    "P = np.ones([K,1])*1.0/K\n",
    "P /= np.sum(P_true)\n",
    "\n",
    "# Uniform initializaiton for Theta in the range [0.2,0.8]\n",
    "Theta = np.random.uniform(low=0.2,high=0.8,size=[K,D]) \n",
    "\n",
    "Num_Iter = 1000\n",
    "\n",
    "alpha = 2.\n",
    "beta = 2.\n",
    "\n",
    "LL = np.zeros([Num_Iter,1])\n",
    "\n",
    "for i in range(Num_Iter):\n",
    "    \n",
    "    R = responsibilities(X,P,Theta,K)\n",
    "    P = new_P(R,N)\n",
    "    Theta = new_Theta(R,X,K,alpha,beta)\n",
    "    LL[i,:] = log_lik(X,P,Theta,K)\n",
    "    "
   ]
  },
  {
   "cell_type": "code",
   "execution_count": 155,
   "metadata": {},
   "outputs": [
    {
     "data": {
      "text/plain": [
       "[<matplotlib.lines.Line2D at 0x20009c49828>]"
      ]
     },
     "execution_count": 155,
     "metadata": {},
     "output_type": "execute_result"
    },
    {
     "data": {
      "image/png": "[encoded data removed]",
      "text/plain": [
       "<matplotlib.figure.Figure at 0x20009d07a20>"
      ]
     },
     "metadata": {},
     "output_type": "display_data"
    }
   ],
   "source": [
    "# Plot the evolution of the negative LL. It should always decrease!\n",
    "plt.semilogy(-LL,'-*')  "
   ]
  },
  {
   "cell_type": "code",
   "execution_count": 156,
   "metadata": {},
   "outputs": [
    {
     "data": {
      "text/plain": [
       "<matplotlib.figure.Figure at 0x200098ba3c8>"
      ]
     },
     "metadata": {},
     "output_type": "display_data"
    },
    {
     "data": {
      "image/png": "[encoded data removed]",
      "text/plain": [
       "<matplotlib.figure.Figure at 0x20009dcc9b0>"
      ]
     },
     "metadata": {},
     "output_type": "display_data"
    },
    {
     "data": {
      "text/plain": [
       "<matplotlib.figure.Figure at 0x20009d4e588>"
      ]
     },
     "metadata": {},
     "output_type": "display_data"
    },
    {
     "data": {
      "image/png": "[encoded data removed]",
      "text/plain": [
       "<matplotlib.figure.Figure at 0x20009cd60f0>"
      ]
     },
     "metadata": {},
     "output_type": "display_data"
    },
    {
     "data": {
      "text/plain": [
       "<matplotlib.figure.Figure at 0x20009d5cc88>"
      ]
     },
     "metadata": {},
     "output_type": "display_data"
    },
    {
     "data": {
      "image/png": "[encoded data removed]",
      "text/plain": [
       "<matplotlib.figure.Figure at 0x20009daf6d8>"
      ]
     },
     "metadata": {},
     "output_type": "display_data"
    },
    {
     "data": {
      "text/plain": [
       "<matplotlib.figure.Figure at 0x20009d36cc0>"
      ]
     },
     "metadata": {},
     "output_type": "display_data"
    },
    {
     "data": {
      "image/png": "[encoded data removed]",
      "text/plain": [
       "<matplotlib.figure.Figure at 0x20009cf0978>"
      ]
     },
     "metadata": {},
     "output_type": "display_data"
    },
    {
     "data": {
      "text/plain": [
       "<matplotlib.figure.Figure at 0x20009c9ccc0>"
      ]
     },
     "metadata": {},
     "output_type": "display_data"
    },
    {
     "data": {
      "image/png": "[encoded data removed]",
      "text/plain": [
       "<matplotlib.figure.Figure at 0x20009d117b8>"
      ]
     },
     "metadata": {},
     "output_type": "display_data"
    },
    {
     "data": {
      "text/plain": [
       "<matplotlib.figure.Figure at 0x20009bb6cc0>"
      ]
     },
     "metadata": {},
     "output_type": "display_data"
    },
    {
     "data": {
      "image/png": "[encoded data removed]",
      "text/plain": [
       "<matplotlib.figure.Figure at 0x20009c25198>"
      ]
     },
     "metadata": {},
     "output_type": "display_data"
    },
    {
     "data": {
      "text/plain": [
       "<matplotlib.figure.Figure at 0x20009c04cc0>"
      ]
     },
     "metadata": {},
     "output_type": "display_data"
    },
    {
     "data": {
      "image/png": "[encoded data removed]",
      "text/plain": [
       "<matplotlib.figure.Figure at 0x20009bbdba8>"
      ]
     },
     "metadata": {},
     "output_type": "display_data"
    },
    {
     "data": {
      "text/plain": [
       "<matplotlib.figure.Figure at 0x20009ab2cc0>"
      ]
     },
     "metadata": {},
     "output_type": "display_data"
    },
    {
     "data": {
      "image/png": "[encoded data removed]",
      "text/plain": [
       "<matplotlib.figure.Figure at 0x20009a773c8>"
      ]
     },
     "metadata": {},
     "output_type": "display_data"
    },
    {
     "data": {
      "text/plain": [
       "<matplotlib.figure.Figure at 0x20009b67e80>"
      ]
     },
     "metadata": {},
     "output_type": "display_data"
    },
    {
     "data": {
      "image/png": "[encoded data removed]",
      "text/plain": [
       "<matplotlib.figure.Figure at 0x20009ab7ef0>"
      ]
     },
     "metadata": {},
     "output_type": "display_data"
    },
    {
     "data": {
      "text/plain": [
       "<matplotlib.figure.Figure at 0x2002c1410f0>"
      ]
     },
     "metadata": {},
     "output_type": "display_data"
    },
    {
     "data": {
      "image/png": "[encoded data removed]",
      "text/plain": [
       "<matplotlib.figure.Figure at 0x20009b50da0>"
      ]
     },
     "metadata": {},
     "output_type": "display_data"
    }
   ],
   "source": [
    "# Plot as a 8x8 gray-scale image each theta_k vector\n",
    "# (it represents the probability of each pixel to take value 1)\n",
    "\n",
    "\n",
    "for k in range(K):\n",
    "    plt.gray() \n",
    "    plt.matshow(Theta[k,:].reshape([28,28])) \n",
    "    plt.show()"
   ]
  },
  {
   "cell_type": "code",
   "execution_count": null,
   "metadata": {
    "collapsed": true
   },
   "outputs": [],
   "source": []
  }
 ],
 "metadata": {
  "kernelspec": {
   "display_name": "Python 3",
   "language": "python",
   "name": "python3"
  },
  "language_info": {
   "codemirror_mode": {
    "name": "ipython",
    "version": 3
   },
   "file_extension": ".py",
   "mimetype": "text/x-python",
   "name": "python",
   "nbconvert_exporter": "python",
   "pygments_lexer": "ipython3",
   "version": "3.6.3"
  }
 },
 "nbformat": 4,
 "nbformat_minor": 1
}
